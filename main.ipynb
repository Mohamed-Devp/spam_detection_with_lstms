{
  "cells": [
    {
      "cell_type": "markdown",
      "metadata": {
        "id": "view-in-github",
        "colab_type": "text"
      },
      "source": [
        "<a href=\"https://colab.research.google.com/github/Mohamed-Devp/spam_detection_with_lstms/blob/main/main.ipynb\" target=\"_parent\"><img src=\"https://colab.research.google.com/assets/colab-badge.svg\" alt=\"Open In Colab\"/></a>"
      ]
    },
    {
      "cell_type": "markdown",
      "source": [
        "# Introduction\n",
        "In this project we'll train a Spam classifier using the SMS spam collection dataset from kaggle, the goal is to use NLP & LSTMs to get a high accuracy on the test set. (you can find the dataset [here](https://www.kaggle.com/datasets/uciml/sms-spam-collection-dataset/data))"
      ],
      "metadata": {
        "id": "OjyzdCB4X23R"
      }
    },
    {
      "cell_type": "markdown",
      "source": [
        "# Data loading\n",
        "we'll start by loading the necessary dependencies, downloading the dataset using the kaggle api, and loading the data into a pandas DataFrame."
      ],
      "metadata": {
        "id": "PY_Zb5feaVLX"
      }
    },
    {
      "cell_type": "markdown",
      "source": [
        "## Import necessary modules"
      ],
      "metadata": {
        "id": "SytICQsjoTtf"
      }
    },
    {
      "cell_type": "code",
      "execution_count": null,
      "metadata": {
        "id": "VoSIh3aMbobF"
      },
      "outputs": [],
      "source": [
        "import torch\n",
        "import torch.nn as nn\n",
        "import torch.optim as optim\n",
        "import torch.nn.functional as F\n",
        "from torch.nn.utils.rnn import pack_padded_sequence\n",
        "\n",
        "import numpy as np\n",
        "import pandas as pd\n",
        "import matplotlib.pyplot as plt\n",
        "\n",
        "import re\n",
        "from collections import Counter\n",
        "\n",
        "import nltk\n",
        "from nltk.corpus import stopwords\n",
        "\n",
        "import random\n",
        "\n",
        "nltk.download('stopwords')\n",
        "\n",
        "# Use a fixed seed of reproducibility\n",
        "seed_value = 42\n",
        "\n",
        "random.seed(seed_value)\n",
        "np.random.seed(seed_value)\n",
        "torch.manual_seed(seed_value)"
      ]
    },
    {
      "cell_type": "markdown",
      "source": [
        "## Load and read the dataset"
      ],
      "metadata": {
        "id": "3C-jSVdIoIEA"
      }
    },
    {
      "cell_type": "code",
      "source": [
        "import kagglehub # kaggle api\n",
        "\n",
        "path = kagglehub.dataset_download(\"uciml/sms-spam-collection-dataset\")\n",
        "%ls \"{path}\""
      ],
      "metadata": {
        "id": "-LNqpkY4bz2D"
      },
      "execution_count": null,
      "outputs": []
    },
    {
      "cell_type": "code",
      "execution_count": 3,
      "metadata": {
        "colab": {
          "base_uri": "https://localhost:8080/",
          "height": 206
        },
        "id": "Bj3hMcgJdiCn",
        "outputId": "7c7b6dec-0969-4f1a-f6a4-3b8e15883b58"
      },
      "outputs": [
        {
          "output_type": "execute_result",
          "data": {
            "text/plain": [
              "  Label                                            Message\n",
              "0   ham  Go until jurong point, crazy.. Available only ...\n",
              "1   ham                      Ok lar... Joking wif u oni...\n",
              "2  spam  Free entry in 2 a wkly comp to win FA Cup fina...\n",
              "3   ham  U dun say so early hor... U c already then say...\n",
              "4   ham  Nah I don't think he goes to usf, he lives aro..."
            ],
            "text/html": [
              "\n",
              "  <div id=\"df-0a5fff6a-5661-4cc4-852f-322d5bb8dfe4\" class=\"colab-df-container\">\n",
              "    <div>\n",
              "<style scoped>\n",
              "    .dataframe tbody tr th:only-of-type {\n",
              "        vertical-align: middle;\n",
              "    }\n",
              "\n",
              "    .dataframe tbody tr th {\n",
              "        vertical-align: top;\n",
              "    }\n",
              "\n",
              "    .dataframe thead th {\n",
              "        text-align: right;\n",
              "    }\n",
              "</style>\n",
              "<table border=\"1\" class=\"dataframe\">\n",
              "  <thead>\n",
              "    <tr style=\"text-align: right;\">\n",
              "      <th></th>\n",
              "      <th>Label</th>\n",
              "      <th>Message</th>\n",
              "    </tr>\n",
              "  </thead>\n",
              "  <tbody>\n",
              "    <tr>\n",
              "      <th>0</th>\n",
              "      <td>ham</td>\n",
              "      <td>Go until jurong point, crazy.. Available only ...</td>\n",
              "    </tr>\n",
              "    <tr>\n",
              "      <th>1</th>\n",
              "      <td>ham</td>\n",
              "      <td>Ok lar... Joking wif u oni...</td>\n",
              "    </tr>\n",
              "    <tr>\n",
              "      <th>2</th>\n",
              "      <td>spam</td>\n",
              "      <td>Free entry in 2 a wkly comp to win FA Cup fina...</td>\n",
              "    </tr>\n",
              "    <tr>\n",
              "      <th>3</th>\n",
              "      <td>ham</td>\n",
              "      <td>U dun say so early hor... U c already then say...</td>\n",
              "    </tr>\n",
              "    <tr>\n",
              "      <th>4</th>\n",
              "      <td>ham</td>\n",
              "      <td>Nah I don't think he goes to usf, he lives aro...</td>\n",
              "    </tr>\n",
              "  </tbody>\n",
              "</table>\n",
              "</div>\n",
              "    <div class=\"colab-df-buttons\">\n",
              "\n",
              "  <div class=\"colab-df-container\">\n",
              "    <button class=\"colab-df-convert\" onclick=\"convertToInteractive('df-0a5fff6a-5661-4cc4-852f-322d5bb8dfe4')\"\n",
              "            title=\"Convert this dataframe to an interactive table.\"\n",
              "            style=\"display:none;\">\n",
              "\n",
              "  <svg xmlns=\"http://www.w3.org/2000/svg\" height=\"24px\" viewBox=\"0 -960 960 960\">\n",
              "    <path d=\"M120-120v-720h720v720H120Zm60-500h600v-160H180v160Zm220 220h160v-160H400v160Zm0 220h160v-160H400v160ZM180-400h160v-160H180v160Zm440 0h160v-160H620v160ZM180-180h160v-160H180v160Zm440 0h160v-160H620v160Z\"/>\n",
              "  </svg>\n",
              "    </button>\n",
              "\n",
              "  <style>\n",
              "    .colab-df-container {\n",
              "      display:flex;\n",
              "      gap: 12px;\n",
              "    }\n",
              "\n",
              "    .colab-df-convert {\n",
              "      background-color: #E8F0FE;\n",
              "      border: none;\n",
              "      border-radius: 50%;\n",
              "      cursor: pointer;\n",
              "      display: none;\n",
              "      fill: #1967D2;\n",
              "      height: 32px;\n",
              "      padding: 0 0 0 0;\n",
              "      width: 32px;\n",
              "    }\n",
              "\n",
              "    .colab-df-convert:hover {\n",
              "      background-color: #E2EBFA;\n",
              "      box-shadow: 0px 1px 2px rgba(60, 64, 67, 0.3), 0px 1px 3px 1px rgba(60, 64, 67, 0.15);\n",
              "      fill: #174EA6;\n",
              "    }\n",
              "\n",
              "    .colab-df-buttons div {\n",
              "      margin-bottom: 4px;\n",
              "    }\n",
              "\n",
              "    [theme=dark] .colab-df-convert {\n",
              "      background-color: #3B4455;\n",
              "      fill: #D2E3FC;\n",
              "    }\n",
              "\n",
              "    [theme=dark] .colab-df-convert:hover {\n",
              "      background-color: #434B5C;\n",
              "      box-shadow: 0px 1px 3px 1px rgba(0, 0, 0, 0.15);\n",
              "      filter: drop-shadow(0px 1px 2px rgba(0, 0, 0, 0.3));\n",
              "      fill: #FFFFFF;\n",
              "    }\n",
              "  </style>\n",
              "\n",
              "    <script>\n",
              "      const buttonEl =\n",
              "        document.querySelector('#df-0a5fff6a-5661-4cc4-852f-322d5bb8dfe4 button.colab-df-convert');\n",
              "      buttonEl.style.display =\n",
              "        google.colab.kernel.accessAllowed ? 'block' : 'none';\n",
              "\n",
              "      async function convertToInteractive(key) {\n",
              "        const element = document.querySelector('#df-0a5fff6a-5661-4cc4-852f-322d5bb8dfe4');\n",
              "        const dataTable =\n",
              "          await google.colab.kernel.invokeFunction('convertToInteractive',\n",
              "                                                    [key], {});\n",
              "        if (!dataTable) return;\n",
              "\n",
              "        const docLinkHtml = 'Like what you see? Visit the ' +\n",
              "          '<a target=\"_blank\" href=https://colab.research.google.com/notebooks/data_table.ipynb>data table notebook</a>'\n",
              "          + ' to learn more about interactive tables.';\n",
              "        element.innerHTML = '';\n",
              "        dataTable['output_type'] = 'display_data';\n",
              "        await google.colab.output.renderOutput(dataTable, element);\n",
              "        const docLink = document.createElement('div');\n",
              "        docLink.innerHTML = docLinkHtml;\n",
              "        element.appendChild(docLink);\n",
              "      }\n",
              "    </script>\n",
              "  </div>\n",
              "\n",
              "\n",
              "<div id=\"df-30d0cc75-b7dc-44e0-a8f5-492740aa2958\">\n",
              "  <button class=\"colab-df-quickchart\" onclick=\"quickchart('df-30d0cc75-b7dc-44e0-a8f5-492740aa2958')\"\n",
              "            title=\"Suggest charts\"\n",
              "            style=\"display:none;\">\n",
              "\n",
              "<svg xmlns=\"http://www.w3.org/2000/svg\" height=\"24px\"viewBox=\"0 0 24 24\"\n",
              "     width=\"24px\">\n",
              "    <g>\n",
              "        <path d=\"M19 3H5c-1.1 0-2 .9-2 2v14c0 1.1.9 2 2 2h14c1.1 0 2-.9 2-2V5c0-1.1-.9-2-2-2zM9 17H7v-7h2v7zm4 0h-2V7h2v10zm4 0h-2v-4h2v4z\"/>\n",
              "    </g>\n",
              "</svg>\n",
              "  </button>\n",
              "\n",
              "<style>\n",
              "  .colab-df-quickchart {\n",
              "      --bg-color: #E8F0FE;\n",
              "      --fill-color: #1967D2;\n",
              "      --hover-bg-color: #E2EBFA;\n",
              "      --hover-fill-color: #174EA6;\n",
              "      --disabled-fill-color: #AAA;\n",
              "      --disabled-bg-color: #DDD;\n",
              "  }\n",
              "\n",
              "  [theme=dark] .colab-df-quickchart {\n",
              "      --bg-color: #3B4455;\n",
              "      --fill-color: #D2E3FC;\n",
              "      --hover-bg-color: #434B5C;\n",
              "      --hover-fill-color: #FFFFFF;\n",
              "      --disabled-bg-color: #3B4455;\n",
              "      --disabled-fill-color: #666;\n",
              "  }\n",
              "\n",
              "  .colab-df-quickchart {\n",
              "    background-color: var(--bg-color);\n",
              "    border: none;\n",
              "    border-radius: 50%;\n",
              "    cursor: pointer;\n",
              "    display: none;\n",
              "    fill: var(--fill-color);\n",
              "    height: 32px;\n",
              "    padding: 0;\n",
              "    width: 32px;\n",
              "  }\n",
              "\n",
              "  .colab-df-quickchart:hover {\n",
              "    background-color: var(--hover-bg-color);\n",
              "    box-shadow: 0 1px 2px rgba(60, 64, 67, 0.3), 0 1px 3px 1px rgba(60, 64, 67, 0.15);\n",
              "    fill: var(--button-hover-fill-color);\n",
              "  }\n",
              "\n",
              "  .colab-df-quickchart-complete:disabled,\n",
              "  .colab-df-quickchart-complete:disabled:hover {\n",
              "    background-color: var(--disabled-bg-color);\n",
              "    fill: var(--disabled-fill-color);\n",
              "    box-shadow: none;\n",
              "  }\n",
              "\n",
              "  .colab-df-spinner {\n",
              "    border: 2px solid var(--fill-color);\n",
              "    border-color: transparent;\n",
              "    border-bottom-color: var(--fill-color);\n",
              "    animation:\n",
              "      spin 1s steps(1) infinite;\n",
              "  }\n",
              "\n",
              "  @keyframes spin {\n",
              "    0% {\n",
              "      border-color: transparent;\n",
              "      border-bottom-color: var(--fill-color);\n",
              "      border-left-color: var(--fill-color);\n",
              "    }\n",
              "    20% {\n",
              "      border-color: transparent;\n",
              "      border-left-color: var(--fill-color);\n",
              "      border-top-color: var(--fill-color);\n",
              "    }\n",
              "    30% {\n",
              "      border-color: transparent;\n",
              "      border-left-color: var(--fill-color);\n",
              "      border-top-color: var(--fill-color);\n",
              "      border-right-color: var(--fill-color);\n",
              "    }\n",
              "    40% {\n",
              "      border-color: transparent;\n",
              "      border-right-color: var(--fill-color);\n",
              "      border-top-color: var(--fill-color);\n",
              "    }\n",
              "    60% {\n",
              "      border-color: transparent;\n",
              "      border-right-color: var(--fill-color);\n",
              "    }\n",
              "    80% {\n",
              "      border-color: transparent;\n",
              "      border-right-color: var(--fill-color);\n",
              "      border-bottom-color: var(--fill-color);\n",
              "    }\n",
              "    90% {\n",
              "      border-color: transparent;\n",
              "      border-bottom-color: var(--fill-color);\n",
              "    }\n",
              "  }\n",
              "</style>\n",
              "\n",
              "  <script>\n",
              "    async function quickchart(key) {\n",
              "      const quickchartButtonEl =\n",
              "        document.querySelector('#' + key + ' button');\n",
              "      quickchartButtonEl.disabled = true;  // To prevent multiple clicks.\n",
              "      quickchartButtonEl.classList.add('colab-df-spinner');\n",
              "      try {\n",
              "        const charts = await google.colab.kernel.invokeFunction(\n",
              "            'suggestCharts', [key], {});\n",
              "      } catch (error) {\n",
              "        console.error('Error during call to suggestCharts:', error);\n",
              "      }\n",
              "      quickchartButtonEl.classList.remove('colab-df-spinner');\n",
              "      quickchartButtonEl.classList.add('colab-df-quickchart-complete');\n",
              "    }\n",
              "    (() => {\n",
              "      let quickchartButtonEl =\n",
              "        document.querySelector('#df-30d0cc75-b7dc-44e0-a8f5-492740aa2958 button');\n",
              "      quickchartButtonEl.style.display =\n",
              "        google.colab.kernel.accessAllowed ? 'block' : 'none';\n",
              "    })();\n",
              "  </script>\n",
              "</div>\n",
              "\n",
              "    </div>\n",
              "  </div>\n"
            ],
            "application/vnd.google.colaboratory.intrinsic+json": {
              "type": "dataframe",
              "variable_name": "df",
              "summary": "{\n  \"name\": \"df\",\n  \"rows\": 5572,\n  \"fields\": [\n    {\n      \"column\": \"Label\",\n      \"properties\": {\n        \"dtype\": \"category\",\n        \"num_unique_values\": 2,\n        \"samples\": [\n          \"spam\",\n          \"ham\"\n        ],\n        \"semantic_type\": \"\",\n        \"description\": \"\"\n      }\n    },\n    {\n      \"column\": \"Message\",\n      \"properties\": {\n        \"dtype\": \"string\",\n        \"num_unique_values\": 5169,\n        \"samples\": [\n          \"Did u download the fring app?\",\n          \"Pass dis to all ur contacts n see wat u get! Red;i'm in luv wid u. Blue;u put a smile on my face. Purple;u r realy hot. Pink;u r so swt. Orange;i thnk i lyk u. Green;i realy wana go out wid u. Yelow;i wnt u bck. Black;i'm jealous of u. Brown;i miss you Nw plz giv me one color\"\n        ],\n        \"semantic_type\": \"\",\n        \"description\": \"\"\n      }\n    }\n  ]\n}"
            }
          },
          "metadata": {},
          "execution_count": 3
        }
      ],
      "source": [
        "# Load the dataset into a pandas DataFrame\n",
        "df = pd.read_csv(f\"{path}/spam.csv\", encoding = 'latin-1')\n",
        "df = df[['v1', 'v2']]\n",
        "df.columns = ['Label', 'Message']\n",
        "\n",
        "df.head()"
      ]
    },
    {
      "cell_type": "markdown",
      "source": [
        "## Data cleaning\n",
        "now after loading the data into a dataframe, we have to clean it by removing missing values and duplicate rows."
      ],
      "metadata": {
        "id": "HxmzDw2Xdypz"
      }
    },
    {
      "cell_type": "code",
      "execution_count": 4,
      "metadata": {
        "colab": {
          "base_uri": "https://localhost:8080/"
        },
        "id": "7AvM6wv8d8Mc",
        "outputId": "83f89783-108b-449f-c1b0-f979648f87a5"
      },
      "outputs": [
        {
          "output_type": "stream",
          "name": "stdout",
          "text": [
            "Number of Missing values:\n",
            "Label      0\n",
            "Message    0\n",
            "dtype: int64\n",
            "Number of duplicate rows:0\n"
          ]
        }
      ],
      "source": [
        "df = df.dropna().drop_duplicates().reset_index(drop = True)\n",
        "\n",
        "print(f\"Number of Missing values:\\n{df.isna().sum()}\",)\n",
        "print(f\"Number of duplicate rows:{df.duplicated().sum()}\")"
      ]
    },
    {
      "cell_type": "markdown",
      "source": [
        "# Data exploration\n",
        "in this section, we'll explore and visualize the data."
      ],
      "metadata": {
        "id": "9rHqwxU6fP4s"
      }
    },
    {
      "cell_type": "code",
      "source": [
        "df.info()"
      ],
      "metadata": {
        "colab": {
          "base_uri": "https://localhost:8080/"
        },
        "id": "EZybry1koznq",
        "outputId": "76edddaa-8e2a-449e-e7bf-5f7f82232a7f"
      },
      "execution_count": 5,
      "outputs": [
        {
          "output_type": "stream",
          "name": "stdout",
          "text": [
            "<class 'pandas.core.frame.DataFrame'>\n",
            "RangeIndex: 5169 entries, 0 to 5168\n",
            "Data columns (total 2 columns):\n",
            " #   Column   Non-Null Count  Dtype \n",
            "---  ------   --------------  ----- \n",
            " 0   Label    5169 non-null   object\n",
            " 1   Message  5169 non-null   object\n",
            "dtypes: object(2)\n",
            "memory usage: 80.9+ KB\n"
          ]
        }
      ]
    },
    {
      "cell_type": "code",
      "execution_count": 6,
      "metadata": {
        "colab": {
          "base_uri": "https://localhost:8080/",
          "height": 472
        },
        "id": "Rg9f-C-je_lo",
        "outputId": "708270fd-ddfc-4b2e-e43c-3bdfef419dd7"
      },
      "outputs": [
        {
          "output_type": "display_data",
          "data": {
            "text/plain": [
              "<Figure size 640x480 with 1 Axes>"
            ],
            "image/png": "[encoded data removed]"
          },
          "metadata": {}
        }
      ],
      "source": [
        "# Plot the label distribution\n",
        "plt.hist(df['Label'])\n",
        "plt.xlabel('Label')\n",
        "plt.ylabel('Frequency')\n",
        "plt.title('Label distribution')\n",
        "plt.show()"
      ]
    },
    {
      "cell_type": "markdown",
      "source": [
        "as you can see in the histogram above, the dataset is extremly imbalanced, there's way more ham (not spam) messages than spam ones."
      ],
      "metadata": {
        "id": "_3-chUAcpQE4"
      }
    },
    {
      "cell_type": "markdown",
      "source": [
        "# Data preprocessing\n",
        "now after visualizing the data, we can move to the preprocessing part.\n",
        "we'll tokenize and convert individual tokens into indcies to be feeded to the model."
      ],
      "metadata": {
        "id": "_RT4cnYgqGkP"
      }
    },
    {
      "cell_type": "markdown",
      "source": [
        "## Tokenization"
      ],
      "metadata": {
        "id": "Or30mY3cqxTm"
      }
    },
    {
      "cell_type": "code",
      "source": [
        "stop_words = set(stopwords.words('english'))\n",
        "\n",
        "sentences = [] # tokenized messages\n",
        "labels = [] # labels\n",
        "\n",
        "max_len = 64 # maximum sentence length\n",
        "for label, message in zip(df['Label'], df['Message']):\n",
        "\n",
        "  # Remove punctuation and special characters\n",
        "  message = re.sub(r\"[^\\w\\s]\", \" \", message.lower())\n",
        "  tokenized = message.split()\n",
        "\n",
        "  # Filter stop words\n",
        "  tokenized = [token for token in tokenized if token not in stop_words]\n",
        "  tokenized = tokenized if len(tokenized) <= max_len else tokenized[:max_len]\n",
        "\n",
        "  if len(tokenized) == 0:\n",
        "    continue\n",
        "\n",
        "  sentences.append(tokenized)\n",
        "  labels.append(1 if label == 'spam' else 0)\n",
        "\n",
        "lengths = [len(sentence) for sentence in sentences] # Length of each sequence"
      ],
      "metadata": {
        "id": "-suil93Vq2zN"
      },
      "execution_count": 7,
      "outputs": []
    },
    {
      "cell_type": "markdown",
      "source": [
        "## Convert tokens into indices"
      ],
      "metadata": {
        "id": "ScfJAqXFtMSE"
      }
    },
    {
      "cell_type": "code",
      "source": [
        "tokens = [token for sentence in sentences for token in sentence]\n",
        "counts = Counter(tokens)\n",
        "\n",
        "max_words = 7000\n",
        "token_to_index = {token: index for index, (token, _) in enumerate(counts.most_common(max_words - 2), start = 2)}\n",
        "\n",
        "# Include special tokens\n",
        "token_to_index['<PAD>'] = 0\n",
        "token_to_index['<OOV>'] = 1\n",
        "\n",
        "inputs = np.zeros((len(sentences), max_len), dtype = np.int32)\n",
        "\n",
        "for i, sentence in enumerate(sentences):\n",
        "  # Replace OOVs\n",
        "  sentence = [token if token in token_to_index else '<OOV>' for token in sentence]\n",
        "\n",
        "  # Pad the sequence into a fixed length\n",
        "  if len(sentence) < max_len:\n",
        "    sentence += ['<PAD>'] * (max_len - len(sentence))\n",
        "\n",
        "  # Convert into indices\n",
        "  inputs[i] = np.array([token_to_index[token] for token in sentence])\n",
        "\n",
        "# Convert into tensors\n",
        "inputs = torch.tensor(inputs, dtype = torch.int32)\n",
        "targets = torch.tensor(labels, dtype = torch.float32)\n",
        "\n",
        "lengths = torch.tensor(lengths, dtype = torch.int32)"
      ],
      "metadata": {
        "id": "Ew87M3Wfqerq"
      },
      "execution_count": 8,
      "outputs": []
    },
    {
      "cell_type": "markdown",
      "source": [
        "## Split the data"
      ],
      "metadata": {
        "id": "fPeif_j87H_0"
      }
    },
    {
      "cell_type": "code",
      "source": [
        "def split(tensor, perc = .8):\n",
        "  idx = int(len(tensor) * perc)\n",
        "  return tensor[:idx], tensor[idx:]\n",
        "\n",
        "X_train, X_test = split(inputs)\n",
        "y_train, y_test = split(targets)\n",
        "\n",
        "X_valid, X_test = split(X_test, perc = .5)\n",
        "y_valid, y_test = split(y_test, perc = .5)\n",
        "\n",
        "train_lengths, test_lengths = split(lengths)\n",
        "valid_lengths, test_lengths = split(test_lengths, perc = .5)"
      ],
      "metadata": {
        "id": "5odEDvOiva8g"
      },
      "execution_count": 9,
      "outputs": []
    },
    {
      "cell_type": "markdown",
      "source": [
        "# Building and Training the classifier"
      ],
      "metadata": {
        "id": "P4W71WCS8wYM"
      }
    },
    {
      "cell_type": "markdown",
      "source": [
        "## Define the model architecture\n",
        "the model is structured as follow:\n",
        "\n",
        "\n",
        "*   **Embedding layer**: map each input token to an embedding vector.\n",
        "\n",
        "*   **LSTM**: processes the embedded token sequences.\n",
        "\n",
        "*   **Output layer**: a dense layer that maps the lstm output into a logit which then passed to the sigmoid activation function.\n",
        "\n",
        "\n",
        "\n"
      ],
      "metadata": {
        "id": "W55TyUH99Hww"
      }
    },
    {
      "cell_type": "code",
      "execution_count": 30,
      "metadata": {
        "id": "l8duE2DCp6a4"
      },
      "outputs": [],
      "source": [
        "# Define the model architecture\n",
        "class SpamDetector(nn.Module):\n",
        "  def __init__(\n",
        "      self,\n",
        "      vocab_size,\n",
        "      embedding_dim,\n",
        "      hidden_size,\n",
        "  ):\n",
        "    super(SpamDetector, self).__init__()\n",
        "\n",
        "    self.embedding = nn.Embedding(vocab_size, embedding_dim, padding_idx = 0)\n",
        "    self.lstm = nn.LSTM(embedding_dim, hidden_size, batch_first = True)\n",
        "    self.output = nn.Linear(hidden_size, 1)\n",
        "\n",
        "  def configure(self, criterion, optimizer):\n",
        "    self.criterion = criterion\n",
        "    self.optimizer = optimizer\n",
        "\n",
        "  def forward(self, inputs, lengths, probs = False):\n",
        "    embedded = self.embedding(inputs)\n",
        "\n",
        "    # pack the padded embedding sequences before feeding into the LSTM\n",
        "    packed = pack_padded_sequence(\n",
        "        embedded,\n",
        "        lengths,\n",
        "        batch_first=True,\n",
        "        enforce_sorted=False\n",
        "    )\n",
        "\n",
        "    lstm_out, (h_n, c_n) = self.lstm(packed)\n",
        "    output = self.output(h_n[-1]).squeeze()\n",
        "\n",
        "    if not probs:\n",
        "      return output\n",
        "\n",
        "    return F.sigmoid(output)\n",
        "\n",
        "  def backward(self, inputs, targets, lengths):\n",
        "    self.optimizer.zero_grad()\n",
        "\n",
        "    outputs = self.forward(inputs, lengths)\n",
        "    loss = self.criterion(outputs, targets)\n",
        "\n",
        "    loss.backward()\n",
        "    self.optimizer.step()\n",
        "\n",
        "    return loss.item()\n",
        "\n",
        "# Build the model\n",
        "model = SpamDetector(\n",
        "    vocab_size = len(token_to_index),\n",
        "    embedding_dim = 32,\n",
        "    hidden_size = 64\n",
        ")\n",
        "\n",
        "optimizer = optim.SGD(model.parameters(), .01)\n",
        "criterion = nn.BCEWithLogitsLoss(pos_weight = torch.tensor(6.0)) # weights the positive samples loss to reduce the effect of class imbalance\n",
        "\n",
        "model.configure(criterion, optimizer)\n",
        "\n",
        "losses = {\n",
        "    'training': [],\n",
        "    'validation': []\n",
        "}"
      ]
    },
    {
      "cell_type": "markdown",
      "source": [
        "## Train the model"
      ],
      "metadata": {
        "id": "JasPSouYAPii"
      }
    },
    {
      "cell_type": "code",
      "source": [
        "def has_stabilized(losses, window_size = 100, threshold = .0001):\n",
        "  \"\"\"Returns True if losses has stabilized, False otherwise.\"\"\"\n",
        "  if len(losses) < window_size:\n",
        "    return False\n",
        "\n",
        "  window = losses[-(window_size + 1):]\n",
        "  diffs = np.diff(window)\n",
        "  mean_diff = np.mean(diffs)\n",
        "\n",
        "  return mean_diff < threshold"
      ],
      "metadata": {
        "id": "uAMe6BXpdnIH"
      },
      "execution_count": 31,
      "outputs": []
    },
    {
      "cell_type": "code",
      "execution_count": null,
      "metadata": {
        "id": "GU0KrC2ZtgQd"
      },
      "outputs": [],
      "source": [
        "# Fit the model to the data\n",
        "batch_size = 64\n",
        "num_epochs = 150\n",
        "\n",
        "for epoch in range(num_epochs):\n",
        "  epoch_loss = num_batchs = 0\n",
        "\n",
        "  # Shuffle the data before each epoch\n",
        "  shuffled = torch.randperm(len(X_train))\n",
        "\n",
        "  for start in range(0, len(X_train), batch_size):\n",
        "    end = min(start + batch_size, len(X_train))\n",
        "\n",
        "    X_batch = X_train[shuffled][start:end]\n",
        "    y_batch = y_train[shuffled][start:end]\n",
        "    lengths_batch = train_lengths[shuffled][start:end]\n",
        "\n",
        "    loss = model.backward(X_batch, y_batch, lengths_batch)\n",
        "    epoch_loss += loss\n",
        "    num_batchs += 1\n",
        "\n",
        "  # Compute the validation loss\n",
        "  outputs = model.forward(X_valid, valid_lengths)\n",
        "  valid_loss = model.criterion(outputs, y_valid)\n",
        "\n",
        "  losses['training'].append(epoch_loss / num_batchs)\n",
        "  losses['validation'].append(valid_loss.item())\n",
        "\n",
        "  # Apply early stopping to reduce overfiting\n",
        "  if has_stabilized(losses['validation']):\n",
        "    break\n",
        "\n",
        "  if epoch == 0 or (epoch + 1) % 10 == 0:\n",
        "    print(f\"Epoch: {epoch + 1} - Loss: {losses['validation'][-1]:.2f}\")"
      ]
    },
    {
      "cell_type": "code",
      "source": [
        "# Save the model\n",
        "torch.save({\n",
        "    'model': model.state_dict(),\n",
        "    'optimizer': optimizer.state_dict(),\n",
        "    'vocab': token_to_index\n",
        "}, 'spamdetecor_state.pth')"
      ],
      "metadata": {
        "id": "NGp2fd4iBbJM"
      },
      "execution_count": 39,
      "outputs": []
    },
    {
      "cell_type": "markdown",
      "source": [
        "## Evaluate the model\n",
        "evaluate the model on the testing test to make sure we got the best results. i used the accuracy, recall and precision which is enough to tell wether the model did a good job."
      ],
      "metadata": {
        "id": "PDj_18U1ULvK"
      }
    },
    {
      "cell_type": "code",
      "execution_count": 38,
      "metadata": {
        "id": "kLrNlmhb7t1-",
        "colab": {
          "base_uri": "https://localhost:8080/",
          "height": 449
        },
        "outputId": "bd7cb75b-81bb-4c20-d8e9-9ec1eb598342"
      },
      "outputs": [
        {
          "output_type": "display_data",
          "data": {
            "text/plain": [
              "<Figure size 640x480 with 1 Axes>"
            ],
            "image/png": "[encoded data removed]"
          },
          "metadata": {}
        }
      ],
      "source": [
        "# Plot the loss curve\n",
        "plt.plot(losses['training'], label = 'Training loss')\n",
        "plt.plot(losses['validation'], label = 'Validation loss')\n",
        "plt.xlabel('Epochs')\n",
        "plt.legend()\n",
        "plt.show()"
      ]
    },
    {
      "cell_type": "code",
      "execution_count": 40,
      "metadata": {
        "id": "WzvIltdy7-bO"
      },
      "outputs": [],
      "source": [
        "class Evaluation:\n",
        "  def __init__(self, model, metrics):\n",
        "    \"\"\"Initializes the Evaluation class, which ehandles valuating model\n",
        "    on different sets and metrics\"\"\"\n",
        "\n",
        "    self.model = model\n",
        "    self.metrics = metrics\n",
        "\n",
        "  def run(\n",
        "      self,\n",
        "      name,\n",
        "      inputs, targets,\n",
        "      lengths,\n",
        "      threshold = .5\n",
        "  ):\n",
        "    probs = model.forward(inputs, lengths, probs = True)\n",
        "    preds = (probs >= threshold).type(torch.int32)\n",
        "\n",
        "    print(f\"{name} results:\")\n",
        "    for metric, func in self.metrics:\n",
        "      print(f\"{metric} score: {func(targets, preds):.2f}\")\n",
        "\n",
        "    print()\n",
        "\n",
        "def accuracy(targets, preds):\n",
        "  return torch.sum(targets == preds) / targets.shape[0]\n",
        "\n",
        "def recall(targets, preds):\n",
        "  true_pos = torch.sum((targets == 1) & (preds == 1))\n",
        "  actual_pos = torch.sum(targets == 1)\n",
        "\n",
        "  if actual_pos == 0:\n",
        "    return 0.00\n",
        "\n",
        "  return true_pos / actual_pos\n",
        "\n",
        "def precision(targets, preds):\n",
        "  true_pos = torch.sum((targets == 1) & (preds == 1))\n",
        "  classified_pos = torch.sum(preds == 1)\n",
        "\n",
        "  if classified_pos == 0:\n",
        "    return 0.00\n",
        "\n",
        "  return true_pos / classified_pos"
      ]
    },
    {
      "cell_type": "code",
      "source": [
        "eval = Evaluation(\n",
        "    model,\n",
        "    metrics = [('Accuracy', accuracy),('Recall', recall), ('Presicion', precision)]\n",
        ")\n",
        "\n",
        "eval.run('Train', X_train, y_train, train_lengths, threshold=.5)\n",
        "eval.run('Test', X_test, y_test, test_lengths, threshold=.5)"
      ],
      "metadata": {
        "id": "7sS5D7jJOPPv",
        "colab": {
          "base_uri": "https://localhost:8080/"
        },
        "outputId": "38e3334f-ce64-4ffb-ab20-86bd678976fe"
      },
      "execution_count": 41,
      "outputs": [
        {
          "output_type": "stream",
          "name": "stdout",
          "text": [
            "Train results:\n",
            "Accuracy score: 0.99\n",
            "Recall score: 0.98\n",
            "Presicion score: 0.94\n",
            "\n",
            "Test results:\n",
            "Accuracy score: 0.98\n",
            "Recall score: 0.93\n",
            "Presicion score: 0.89\n",
            "\n"
          ]
        }
      ]
    },
    {
      "cell_type": "markdown",
      "source": [
        "# Try the model on real word examples"
      ],
      "metadata": {
        "id": "RUFZYwufZxm_"
      }
    },
    {
      "cell_type": "code",
      "source": [
        "def detect(model, message):\n",
        "  \"\"\"Uses the pretrained model to check if message is a spam.\"\"\"\n",
        "  # Preprocess the given message\n",
        "  test = re.sub(r\"[^\\w\\s]\", \" \", message.lower())\n",
        "  tokenized = test.split()\n",
        "\n",
        "  tokenized = [token for token in tokenized if token not in stop_words]\n",
        "  tokenized = [token if token in token_to_index else '<OOV>' for token in tokenized]\n",
        "  length = len(tokenized)\n",
        "\n",
        "  if length > max_len:\n",
        "    tokenized = tokenized[:max_len]\n",
        "    length = max_len\n",
        "  else:\n",
        "    tokenized += ['<PAD>'] * (max_len - len(tokenized))\n",
        "\n",
        "  input_seq = torch.tensor([[token_to_index[token] for token in tokenized]])\n",
        "  lengths = torch.tensor([length], dtype = torch.int32)\n",
        "\n",
        "  prob = model.forward(input_seq, lengths, probs = True)\n",
        "  if prob < .5:\n",
        "    print(f\"The model is {(1 - prob) * 100:.1f}% confident that '{message}' is not a spam.\")\n",
        "  else:\n",
        "    print(f\"The model is {prob * 100:.1f}% confident that '{message}' is a spam.\")"
      ],
      "metadata": {
        "id": "FPwGNpCRaBPH"
      },
      "execution_count": 54,
      "outputs": []
    },
    {
      "cell_type": "code",
      "source": [
        "detect(\n",
        "    model,\n",
        "    \"Congratulations! You've won a $1,000 Walmart gift card. Click here to claim now: http://bit.ly/winbig123\"\n",
        ")"
      ],
      "metadata": {
        "colab": {
          "base_uri": "https://localhost:8080/"
        },
        "id": "6fBjVTUSeSvM",
        "outputId": "9d9f72e2-fed3-4de3-e499-9474240fd2f5"
      },
      "execution_count": 55,
      "outputs": [
        {
          "output_type": "stream",
          "name": "stdout",
          "text": [
            "The model is 65.5% confident that 'Congratulations! You've won a $1,000 Walmart gift card. Click here to claim now: http://bit.ly/winbig123' is a spam.\n"
          ]
        }
      ]
    },
    {
      "cell_type": "code",
      "source": [
        "detect(\n",
        "    model,\n",
        "    \"Dear user, we noticed unusual activity on your account. Please verify your identity immediately to avoid suspension: https://secure-login-alert.com\"\n",
        ")"
      ],
      "metadata": {
        "colab": {
          "base_uri": "https://localhost:8080/"
        },
        "id": "SrsFLV4le8Mk",
        "outputId": "af890f61-3a9c-4ae2-87ee-3dd34846c889"
      },
      "execution_count": 56,
      "outputs": [
        {
          "output_type": "stream",
          "name": "stdout",
          "text": [
            "The model is 98.7% confident that 'Dear user, we noticed unusual activity on your account. Please verify your identity immediately to avoid suspension: https://secure-login-alert.com' is a spam.\n"
          ]
        }
      ]
    },
    {
      "cell_type": "code",
      "source": [
        "detect(\n",
        "    model,\n",
        "    \"Hi John, just checking in on the invoice from last week. Can you confirm the payment was sent? Here’s the link again just in case: drive.google.com/folder/invoice2025\"\n",
        ")"
      ],
      "metadata": {
        "colab": {
          "base_uri": "https://localhost:8080/"
        },
        "id": "lZv3L3avfQGu",
        "outputId": "e3914c4a-2ec0-493d-9cef-d20f892a1f17"
      },
      "execution_count": 57,
      "outputs": [
        {
          "output_type": "stream",
          "name": "stdout",
          "text": [
            "The model is 92.0% confident that 'Hi John, just checking in on the invoice from last week. Can you confirm the payment was sent? Here’s the link again just in case: drive.google.com/folder/invoice2025' is not a spam.\n"
          ]
        }
      ]
    }
  ],
  "metadata": {
    "colab": {
      "provenance": [],
      "collapsed_sections": [
        "SytICQsjoTtf",
        "3C-jSVdIoIEA",
        "HxmzDw2Xdypz"
      ],
      "authorship_tag": "ABX9TyMrm2ei11ynkp3tCxJnDnN5",
      "include_colab_link": true
    },
    "kernelspec": {
      "display_name": "Python 3",
      "name": "python3"
    },
    "language_info": {
      "name": "python"
    }
  },
  "nbformat": 4,
  "nbformat_minor": 0
}