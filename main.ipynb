{
  "cells": [
    {
      "cell_type": "markdown",
      "metadata": {
        "id": "view-in-github",
        "colab_type": "text"
      },
      "source": [
        "<a href=\"https://colab.research.google.com/github/Mohamed-Devp/spam_detection_with_lstms/blob/main/main.ipynb\" target=\"_parent\"><img src=\"https://colab.research.google.com/assets/colab-badge.svg\" alt=\"Open In Colab\"/></a>"
      ]
    },
    {
      "cell_type": "markdown",
      "source": [
        "# Overview\n",
        "This notebook demonstrates the training of a deep learning model capable of detecting spam messages with high accuracy."
      ],
      "metadata": {
        "id": "LlAaNGKcOK4b"
      }
    },
    {
      "cell_type": "markdown",
      "source": [
        "# Data loading\n",
        "The dataset used in this notebook is the [SMS Spam Collection Dataset](https://www.kaggle.com/datasets/uciml/sms-spam-collection-dataset/data) from kaggle."
      ],
      "metadata": {
        "id": "PY_Zb5feaVLX"
      }
    },
    {
      "cell_type": "markdown",
      "source": [
        "## Import necessary modules"
      ],
      "metadata": {
        "id": "SytICQsjoTtf"
      }
    },
    {
      "cell_type": "code",
      "execution_count": null,
      "metadata": {
        "id": "VoSIh3aMbobF"
      },
      "outputs": [],
      "source": [
        "import torch\n",
        "import torch.nn as nn\n",
        "import torch.nn.functional as F\n",
        "from torch.optim import SGD\n",
        "\n",
        "from sklearn.metrics import accuracy_score, recall_score, precision_score, f1_score, confusion_matrix\n",
        "\n",
        "import numpy as np\n",
        "import pandas as pd\n",
        "\n",
        "import matplotlib.pyplot as plt\n",
        "import seaborn as sns\n",
        "\n",
        "import re\n",
        "from collections import Counter\n",
        "\n",
        "import nltk\n",
        "from nltk.corpus import stopwords\n",
        "\n",
        "sns.set_style('whitegrid')\n",
        "nltk.download('stopwords')"
      ]
    },
    {
      "cell_type": "markdown",
      "source": [
        "## Load and read the dataset"
      ],
      "metadata": {
        "id": "3C-jSVdIoIEA"
      }
    },
    {
      "cell_type": "code",
      "source": [
        "import kagglehub # kaggle api\n",
        "\n",
        "path = kagglehub.dataset_download(\"uciml/sms-spam-collection-dataset\")\n",
        "%ls \"{path}\""
      ],
      "metadata": {
        "id": "-LNqpkY4bz2D"
      },
      "execution_count": null,
      "outputs": []
    },
    {
      "cell_type": "code",
      "execution_count": 9,
      "metadata": {
        "colab": {
          "base_uri": "https://localhost:8080/",
          "height": 206
        },
        "id": "Bj3hMcgJdiCn",
        "outputId": "0129fe0b-f1fd-4597-d7fb-097ac81192a6"
      },
      "outputs": [
        {
          "output_type": "execute_result",
          "data": {
            "text/plain": [
              "  Label                                            Message\n",
              "0   ham  Go until jurong point, crazy.. Available only ...\n",
              "1   ham                      Ok lar... Joking wif u oni...\n",
              "2  spam  Free entry in 2 a wkly comp to win FA Cup fina...\n",
              "3   ham  U dun say so early hor... U c already then say...\n",
              "4   ham  Nah I don't think he goes to usf, he lives aro..."
            ],
            "text/html": [
              "\n",
              "  <div id=\"df-8a532d0f-9d0b-4780-aa40-0bdd61599255\" class=\"colab-df-container\">\n",
              "    <div>\n",
              "<style scoped>\n",
              "    .dataframe tbody tr th:only-of-type {\n",
              "        vertical-align: middle;\n",
              "    }\n",
              "\n",
              "    .dataframe tbody tr th {\n",
              "        vertical-align: top;\n",
              "    }\n",
              "\n",
              "    .dataframe thead th {\n",
              "        text-align: right;\n",
              "    }\n",
              "</style>\n",
              "<table border=\"1\" class=\"dataframe\">\n",
              "  <thead>\n",
              "    <tr style=\"text-align: right;\">\n",
              "      <th></th>\n",
              "      <th>Label</th>\n",
              "      <th>Message</th>\n",
              "    </tr>\n",
              "  </thead>\n",
              "  <tbody>\n",
              "    <tr>\n",
              "      <th>0</th>\n",
              "      <td>ham</td>\n",
              "      <td>Go until jurong point, crazy.. Available only ...</td>\n",
              "    </tr>\n",
              "    <tr>\n",
              "      <th>1</th>\n",
              "      <td>ham</td>\n",
              "      <td>Ok lar... Joking wif u oni...</td>\n",
              "    </tr>\n",
              "    <tr>\n",
              "      <th>2</th>\n",
              "      <td>spam</td>\n",
              "      <td>Free entry in 2 a wkly comp to win FA Cup fina...</td>\n",
              "    </tr>\n",
              "    <tr>\n",
              "      <th>3</th>\n",
              "      <td>ham</td>\n",
              "      <td>U dun say so early hor... U c already then say...</td>\n",
              "    </tr>\n",
              "    <tr>\n",
              "      <th>4</th>\n",
              "      <td>ham</td>\n",
              "      <td>Nah I don't think he goes to usf, he lives aro...</td>\n",
              "    </tr>\n",
              "  </tbody>\n",
              "</table>\n",
              "</div>\n",
              "    <div class=\"colab-df-buttons\">\n",
              "\n",
              "  <div class=\"colab-df-container\">\n",
              "    <button class=\"colab-df-convert\" onclick=\"convertToInteractive('df-8a532d0f-9d0b-4780-aa40-0bdd61599255')\"\n",
              "            title=\"Convert this dataframe to an interactive table.\"\n",
              "            style=\"display:none;\">\n",
              "\n",
              "  <svg xmlns=\"http://www.w3.org/2000/svg\" height=\"24px\" viewBox=\"0 -960 960 960\">\n",
              "    <path d=\"M120-120v-720h720v720H120Zm60-500h600v-160H180v160Zm220 220h160v-160H400v160Zm0 220h160v-160H400v160ZM180-400h160v-160H180v160Zm440 0h160v-160H620v160ZM180-180h160v-160H180v160Zm440 0h160v-160H620v160Z\"/>\n",
              "  </svg>\n",
              "    </button>\n",
              "\n",
              "  <style>\n",
              "    .colab-df-container {\n",
              "      display:flex;\n",
              "      gap: 12px;\n",
              "    }\n",
              "\n",
              "    .colab-df-convert {\n",
              "      background-color: #E8F0FE;\n",
              "      border: none;\n",
              "      border-radius: 50%;\n",
              "      cursor: pointer;\n",
              "      display: none;\n",
              "      fill: #1967D2;\n",
              "      height: 32px;\n",
              "      padding: 0 0 0 0;\n",
              "      width: 32px;\n",
              "    }\n",
              "\n",
              "    .colab-df-convert:hover {\n",
              "      background-color: #E2EBFA;\n",
              "      box-shadow: 0px 1px 2px rgba(60, 64, 67, 0.3), 0px 1px 3px 1px rgba(60, 64, 67, 0.15);\n",
              "      fill: #174EA6;\n",
              "    }\n",
              "\n",
              "    .colab-df-buttons div {\n",
              "      margin-bottom: 4px;\n",
              "    }\n",
              "\n",
              "    [theme=dark] .colab-df-convert {\n",
              "      background-color: #3B4455;\n",
              "      fill: #D2E3FC;\n",
              "    }\n",
              "\n",
              "    [theme=dark] .colab-df-convert:hover {\n",
              "      background-color: #434B5C;\n",
              "      box-shadow: 0px 1px 3px 1px rgba(0, 0, 0, 0.15);\n",
              "      filter: drop-shadow(0px 1px 2px rgba(0, 0, 0, 0.3));\n",
              "      fill: #FFFFFF;\n",
              "    }\n",
              "  </style>\n",
              "\n",
              "    <script>\n",
              "      const buttonEl =\n",
              "        document.querySelector('#df-8a532d0f-9d0b-4780-aa40-0bdd61599255 button.colab-df-convert');\n",
              "      buttonEl.style.display =\n",
              "        google.colab.kernel.accessAllowed ? 'block' : 'none';\n",
              "\n",
              "      async function convertToInteractive(key) {\n",
              "        const element = document.querySelector('#df-8a532d0f-9d0b-4780-aa40-0bdd61599255');\n",
              "        const dataTable =\n",
              "          await google.colab.kernel.invokeFunction('convertToInteractive',\n",
              "                                                    [key], {});\n",
              "        if (!dataTable) return;\n",
              "\n",
              "        const docLinkHtml = 'Like what you see? Visit the ' +\n",
              "          '<a target=\"_blank\" href=https://colab.research.google.com/notebooks/data_table.ipynb>data table notebook</a>'\n",
              "          + ' to learn more about interactive tables.';\n",
              "        element.innerHTML = '';\n",
              "        dataTable['output_type'] = 'display_data';\n",
              "        await google.colab.output.renderOutput(dataTable, element);\n",
              "        const docLink = document.createElement('div');\n",
              "        docLink.innerHTML = docLinkHtml;\n",
              "        element.appendChild(docLink);\n",
              "      }\n",
              "    </script>\n",
              "  </div>\n",
              "\n",
              "\n",
              "<div id=\"df-94fb4cd6-bbb4-4152-8a3d-33a5928afc6d\">\n",
              "  <button class=\"colab-df-quickchart\" onclick=\"quickchart('df-94fb4cd6-bbb4-4152-8a3d-33a5928afc6d')\"\n",
              "            title=\"Suggest charts\"\n",
              "            style=\"display:none;\">\n",
              "\n",
              "<svg xmlns=\"http://www.w3.org/2000/svg\" height=\"24px\"viewBox=\"0 0 24 24\"\n",
              "     width=\"24px\">\n",
              "    <g>\n",
              "        <path d=\"M19 3H5c-1.1 0-2 .9-2 2v14c0 1.1.9 2 2 2h14c1.1 0 2-.9 2-2V5c0-1.1-.9-2-2-2zM9 17H7v-7h2v7zm4 0h-2V7h2v10zm4 0h-2v-4h2v4z\"/>\n",
              "    </g>\n",
              "</svg>\n",
              "  </button>\n",
              "\n",
              "<style>\n",
              "  .colab-df-quickchart {\n",
              "      --bg-color: #E8F0FE;\n",
              "      --fill-color: #1967D2;\n",
              "      --hover-bg-color: #E2EBFA;\n",
              "      --hover-fill-color: #174EA6;\n",
              "      --disabled-fill-color: #AAA;\n",
              "      --disabled-bg-color: #DDD;\n",
              "  }\n",
              "\n",
              "  [theme=dark] .colab-df-quickchart {\n",
              "      --bg-color: #3B4455;\n",
              "      --fill-color: #D2E3FC;\n",
              "      --hover-bg-color: #434B5C;\n",
              "      --hover-fill-color: #FFFFFF;\n",
              "      --disabled-bg-color: #3B4455;\n",
              "      --disabled-fill-color: #666;\n",
              "  }\n",
              "\n",
              "  .colab-df-quickchart {\n",
              "    background-color: var(--bg-color);\n",
              "    border: none;\n",
              "    border-radius: 50%;\n",
              "    cursor: pointer;\n",
              "    display: none;\n",
              "    fill: var(--fill-color);\n",
              "    height: 32px;\n",
              "    padding: 0;\n",
              "    width: 32px;\n",
              "  }\n",
              "\n",
              "  .colab-df-quickchart:hover {\n",
              "    background-color: var(--hover-bg-color);\n",
              "    box-shadow: 0 1px 2px rgba(60, 64, 67, 0.3), 0 1px 3px 1px rgba(60, 64, 67, 0.15);\n",
              "    fill: var(--button-hover-fill-color);\n",
              "  }\n",
              "\n",
              "  .colab-df-quickchart-complete:disabled,\n",
              "  .colab-df-quickchart-complete:disabled:hover {\n",
              "    background-color: var(--disabled-bg-color);\n",
              "    fill: var(--disabled-fill-color);\n",
              "    box-shadow: none;\n",
              "  }\n",
              "\n",
              "  .colab-df-spinner {\n",
              "    border: 2px solid var(--fill-color);\n",
              "    border-color: transparent;\n",
              "    border-bottom-color: var(--fill-color);\n",
              "    animation:\n",
              "      spin 1s steps(1) infinite;\n",
              "  }\n",
              "\n",
              "  @keyframes spin {\n",
              "    0% {\n",
              "      border-color: transparent;\n",
              "      border-bottom-color: var(--fill-color);\n",
              "      border-left-color: var(--fill-color);\n",
              "    }\n",
              "    20% {\n",
              "      border-color: transparent;\n",
              "      border-left-color: var(--fill-color);\n",
              "      border-top-color: var(--fill-color);\n",
              "    }\n",
              "    30% {\n",
              "      border-color: transparent;\n",
              "      border-left-color: var(--fill-color);\n",
              "      border-top-color: var(--fill-color);\n",
              "      border-right-color: var(--fill-color);\n",
              "    }\n",
              "    40% {\n",
              "      border-color: transparent;\n",
              "      border-right-color: var(--fill-color);\n",
              "      border-top-color: var(--fill-color);\n",
              "    }\n",
              "    60% {\n",
              "      border-color: transparent;\n",
              "      border-right-color: var(--fill-color);\n",
              "    }\n",
              "    80% {\n",
              "      border-color: transparent;\n",
              "      border-right-color: var(--fill-color);\n",
              "      border-bottom-color: var(--fill-color);\n",
              "    }\n",
              "    90% {\n",
              "      border-color: transparent;\n",
              "      border-bottom-color: var(--fill-color);\n",
              "    }\n",
              "  }\n",
              "</style>\n",
              "\n",
              "  <script>\n",
              "    async function quickchart(key) {\n",
              "      const quickchartButtonEl =\n",
              "        document.querySelector('#' + key + ' button');\n",
              "      quickchartButtonEl.disabled = true;  // To prevent multiple clicks.\n",
              "      quickchartButtonEl.classList.add('colab-df-spinner');\n",
              "      try {\n",
              "        const charts = await google.colab.kernel.invokeFunction(\n",
              "            'suggestCharts', [key], {});\n",
              "      } catch (error) {\n",
              "        console.error('Error during call to suggestCharts:', error);\n",
              "      }\n",
              "      quickchartButtonEl.classList.remove('colab-df-spinner');\n",
              "      quickchartButtonEl.classList.add('colab-df-quickchart-complete');\n",
              "    }\n",
              "    (() => {\n",
              "      let quickchartButtonEl =\n",
              "        document.querySelector('#df-94fb4cd6-bbb4-4152-8a3d-33a5928afc6d button');\n",
              "      quickchartButtonEl.style.display =\n",
              "        google.colab.kernel.accessAllowed ? 'block' : 'none';\n",
              "    })();\n",
              "  </script>\n",
              "</div>\n",
              "\n",
              "    </div>\n",
              "  </div>\n"
            ],
            "application/vnd.google.colaboratory.intrinsic+json": {
              "type": "dataframe",
              "variable_name": "df",
              "summary": "{\n  \"name\": \"df\",\n  \"rows\": 5572,\n  \"fields\": [\n    {\n      \"column\": \"Label\",\n      \"properties\": {\n        \"dtype\": \"category\",\n        \"num_unique_values\": 2,\n        \"samples\": [\n          \"spam\",\n          \"ham\"\n        ],\n        \"semantic_type\": \"\",\n        \"description\": \"\"\n      }\n    },\n    {\n      \"column\": \"Message\",\n      \"properties\": {\n        \"dtype\": \"string\",\n        \"num_unique_values\": 5169,\n        \"samples\": [\n          \"Did u download the fring app?\",\n          \"Pass dis to all ur contacts n see wat u get! Red;i'm in luv wid u. Blue;u put a smile on my face. Purple;u r realy hot. Pink;u r so swt. Orange;i thnk i lyk u. Green;i realy wana go out wid u. Yelow;i wnt u bck. Black;i'm jealous of u. Brown;i miss you Nw plz giv me one color\"\n        ],\n        \"semantic_type\": \"\",\n        \"description\": \"\"\n      }\n    }\n  ]\n}"
            }
          },
          "metadata": {},
          "execution_count": 9
        }
      ],
      "source": [
        "# Load the dataset into dataframe\n",
        "df = pd.read_csv(f\"{path}/spam.csv\", encoding = 'latin-1')\n",
        "df = df[['v1', 'v2']]\n",
        "df.columns = ['Label', 'Message']\n",
        "\n",
        "df.head()"
      ]
    },
    {
      "cell_type": "code",
      "execution_count": null,
      "metadata": {
        "id": "7AvM6wv8d8Mc"
      },
      "outputs": [],
      "source": [
        "df = df.dropna().drop_duplicates().reset_index(drop = True)\n",
        "\n",
        "print(f\"Number of Missing values:\\n{df.isna().sum()}\",)\n",
        "print(f\"Number of duplicate rows:{df.duplicated().sum()}\")"
      ]
    },
    {
      "cell_type": "markdown",
      "source": [
        "# Data exploration"
      ],
      "metadata": {
        "id": "9rHqwxU6fP4s"
      }
    },
    {
      "cell_type": "code",
      "source": [
        "df.info()"
      ],
      "metadata": {
        "id": "EZybry1koznq"
      },
      "execution_count": null,
      "outputs": []
    },
    {
      "cell_type": "code",
      "execution_count": null,
      "metadata": {
        "id": "Rg9f-C-je_lo"
      },
      "outputs": [],
      "source": [
        "# Plot the label distribution\n",
        "sns.countplot(df, x = 'Label')\n",
        "plt.show()"
      ]
    },
    {
      "cell_type": "markdown",
      "source": [
        "# Data preprocessing"
      ],
      "metadata": {
        "id": "_RT4cnYgqGkP"
      }
    },
    {
      "cell_type": "markdown",
      "source": [
        "## Tokenization"
      ],
      "metadata": {
        "id": "Or30mY3cqxTm"
      }
    },
    {
      "cell_type": "code",
      "source": [
        "stop_words = set(stopwords.words('english'))\n",
        "\n",
        "max_len = 248\n",
        "\n",
        "sequences = []\n",
        "labels = []\n",
        "\n",
        "for row in range(df.shape[0]):\n",
        "  sentence = df.iloc[row]['Message']\n",
        "  label = df.iloc[row]['Label']\n",
        "\n",
        "  # Remove punctuation & special characters\n",
        "  tokenized = re.sub(r\"[^\\w\\s]\", \" \", sentence.lower()).split()\n",
        "\n",
        "  # Remove stop words\n",
        "  tokenized = [token for token in tokenized if token not in stop_words]\n",
        "  if len(tokenized) == 0:\n",
        "    continue\n",
        "\n",
        "  chars = [char for token in tokenized for char in token]\n",
        "  sequences.append(chars if len(chars) <= max_len else chars[:max_len])\n",
        "  labels.append(1 if label == 'spam' else 0)\n",
        "\n",
        "print(f\"Sequence: {sequences[0][:16]} - Label: {labels[0]}\")"
      ],
      "metadata": {
        "id": "-suil93Vq2zN"
      },
      "execution_count": null,
      "outputs": []
    },
    {
      "cell_type": "markdown",
      "source": [
        "## Convert tokens into indices"
      ],
      "metadata": {
        "id": "ScfJAqXFtMSE"
      }
    },
    {
      "cell_type": "code",
      "source": [
        "chars = [char for sequence in sequences for char in sequence]\n",
        "counts = Counter(chars)\n",
        "\n",
        "char_to_index = {char: index for index, (char, _) in enumerate(counts.items(), start = 2)}\n",
        "char_to_index['<PAD>'] = 0\n",
        "char_to_index['<OOV>'] = 1\n",
        "\n",
        "inputs = torch.empty((len(sequences), max_len), dtype=torch.int32)\n",
        "targets = torch.tensor(labels, dtype = torch.float32)\n",
        "\n",
        "for i, sequence in enumerate(sequences):\n",
        "  sample = [char_to_index.get(char, char_to_index['<OOV>']) for char in sequence]\n",
        "\n",
        "  if len(sample) < max_len:\n",
        "    sample += [char_to_index['<PAD>']] * (max_len - len(sample))\n",
        "\n",
        "  inputs[i] = torch.tensor(sample)"
      ],
      "metadata": {
        "id": "Ew87M3Wfqerq"
      },
      "execution_count": 43,
      "outputs": []
    },
    {
      "cell_type": "markdown",
      "source": [
        "## Split the data"
      ],
      "metadata": {
        "id": "fPeif_j87H_0"
      }
    },
    {
      "cell_type": "code",
      "source": [
        "def split(tensor, perc = .8):\n",
        "  idx = int(len(tensor) * perc)\n",
        "  return tensor[:idx], tensor[idx:]\n",
        "\n",
        "X_train, X_test = split(inputs)\n",
        "y_train, y_test = split(targets)\n",
        "\n",
        "X_valid, X_test = split(X_test, perc = .5)\n",
        "y_valid, y_test = split(y_test, perc = .5)"
      ],
      "metadata": {
        "id": "5odEDvOiva8g"
      },
      "execution_count": 44,
      "outputs": []
    },
    {
      "cell_type": "markdown",
      "source": [
        "# Build and Train the classifier"
      ],
      "metadata": {
        "id": "P4W71WCS8wYM"
      }
    },
    {
      "cell_type": "markdown",
      "source": [
        "## Define the model architecture\n",
        "\n",
        "\n"
      ],
      "metadata": {
        "id": "W55TyUH99Hww"
      }
    },
    {
      "cell_type": "code",
      "execution_count": 45,
      "metadata": {
        "id": "l8duE2DCp6a4"
      },
      "outputs": [],
      "source": [
        "class CharCNN(nn.Module):\n",
        "  def __init__(\n",
        "      self,\n",
        "      vocab_size,\n",
        "      embedding_dim,\n",
        "      num_kernels\n",
        "  ):\n",
        "    super().__init__()\n",
        "\n",
        "    self.embedding = nn.Embedding(vocab_size, embedding_dim)\n",
        "\n",
        "    self.conv = nn.Conv1d(in_channels=embedding_dim, out_channels=num_kernels, kernel_size=5)\n",
        "\n",
        "    self.output = nn.Linear(num_kernels, 1)\n",
        "\n",
        "    self.criterion = nn.BCEWithLogitsLoss(pos_weight=torch.tensor(5.0))\n",
        "    self.optimizer = SGD(self.parameters(), lr = 0.01)\n",
        "\n",
        "  def forward(self, inputs, probs = False):\n",
        "    embedded = self.embedding(inputs).permute(0, 2, 1)\n",
        "\n",
        "    conv_out = F.relu(self.conv(embedded))\n",
        "    conv_out = F.max_pool1d(conv_out, kernel_size=conv_out.shape[-1]).squeeze(-1)\n",
        "\n",
        "    output = self.output(conv_out).squeeze(-1)\n",
        "\n",
        "    return F.sigmoid(output) if probs else output\n",
        "\n",
        "  def backward(self, inputs, targets):\n",
        "    self.optimizer.zero_grad()\n",
        "\n",
        "    outputs = self.forward(inputs)\n",
        "    loss = self.criterion(outputs, targets)\n",
        "\n",
        "    loss.backward()\n",
        "    self.optimizer.step()\n",
        "\n",
        "    return loss.item()\n",
        "\n",
        "model = CharCNN(\n",
        "    vocab_size=len(char_to_index),\n",
        "    embedding_dim=32,\n",
        "    num_kernels=64\n",
        ")\n",
        "\n",
        "losses = {\n",
        "    'train': [],\n",
        "    'valid': []\n",
        "}"
      ]
    },
    {
      "cell_type": "markdown",
      "source": [
        "## Train the model"
      ],
      "metadata": {
        "id": "JasPSouYAPii"
      }
    },
    {
      "cell_type": "code",
      "execution_count": null,
      "metadata": {
        "id": "GU0KrC2ZtgQd"
      },
      "outputs": [],
      "source": [
        "# Fit the model to the data\n",
        "batch_size = 64\n",
        "num_epochs = 125\n",
        "\n",
        "for epoch in range(num_epochs):\n",
        "  epoch_loss = num_batchs = 0\n",
        "\n",
        "  # Shuffle the data before each epoch\n",
        "  shuffled = torch.randperm(len(X_train))\n",
        "\n",
        "  for start in range(0, len(X_train), batch_size):\n",
        "    end = min(start + batch_size, len(X_train))\n",
        "\n",
        "    X_batch = X_train[shuffled][start:end]\n",
        "    y_batch = y_train[shuffled][start:end]\n",
        "\n",
        "    loss = model.backward(X_batch, y_batch)\n",
        "    epoch_loss += loss\n",
        "    num_batchs += 1\n",
        "\n",
        "  # Compute the validation loss\n",
        "  with torch.no_grad():\n",
        "    outputs = model.forward(X_valid)\n",
        "    valid_loss = model.criterion(outputs, y_valid)\n",
        "\n",
        "  losses['train'].append(epoch_loss / num_batchs)\n",
        "  losses['valid'].append(valid_loss.item())\n",
        "\n",
        "  if epoch == 0 or (epoch + 1) % 5 == 0:\n",
        "    print(f\"Epoch: {epoch + 1} - Training: {losses['train'][-1]:.2f} - Validation: {losses['valid'][-1]:.2f}\")"
      ]
    },
    {
      "cell_type": "markdown",
      "source": [
        "## Evaluate the model"
      ],
      "metadata": {
        "id": "PDj_18U1ULvK"
      }
    },
    {
      "cell_type": "code",
      "execution_count": null,
      "metadata": {
        "id": "kLrNlmhb7t1-"
      },
      "outputs": [],
      "source": [
        "# Plot the loss curve\n",
        "sns.lineplot(losses['train'], label = 'Training')\n",
        "sns.lineplot(losses['valid'], label = 'Validation')\n",
        "plt.show()"
      ]
    },
    {
      "cell_type": "code",
      "source": [
        "probs = model.forward(X_test, probs = True)\n",
        "\n",
        "threshold = .5\n",
        "preds = (probs >= threshold).type(torch.int32)\n",
        "\n",
        "print(f\"Accuracy score: {accuracy_score(y_test, preds):.2f}\")\n",
        "print(f\"Recall score: {recall_score(y_test, preds):.2f}\")\n",
        "print(f\"Precision score: {precision_score(y_test, preds):.2f}\")\n",
        "print(f\"F1 score: {f1_score(y_test, preds):.2f}\")"
      ],
      "metadata": {
        "id": "5DDCEhCSgdPS"
      },
      "execution_count": null,
      "outputs": []
    },
    {
      "cell_type": "code",
      "source": [
        "# plot the confusion matrix\n",
        "conf_matrix = confusion_matrix(y_test, preds)\n",
        "\n",
        "plt.figure(figsize=(6, 4))\n",
        "sns.heatmap(conf_matrix, annot=True, fmt=\"d\", cmap=\"Blues\", cbar=False,\n",
        "            xticklabels=['ham', 'spam'], yticklabels=['ham', 'spam'])\n",
        "plt.xlabel(\"Predicted\")\n",
        "plt.ylabel(\"Actual\")\n",
        "plt.title(\"Confusion Matrix Heatmap\")\n",
        "plt.show()"
      ],
      "metadata": {
        "id": "RgCcobMIhnOA"
      },
      "execution_count": null,
      "outputs": []
    }
  ],
  "metadata": {
    "colab": {
      "provenance": [],
      "collapsed_sections": [
        "SytICQsjoTtf",
        "3C-jSVdIoIEA",
        "HxmzDw2Xdypz"
      ],
      "authorship_tag": "ABX9TyOy1Nz987x7k9tEULvO8f0G",
      "include_colab_link": true
    },
    "kernelspec": {
      "display_name": "Python 3",
      "name": "python3"
    },
    "language_info": {
      "name": "python"
    }
  },
  "nbformat": 4,
  "nbformat_minor": 0
}